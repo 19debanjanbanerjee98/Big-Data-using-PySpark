{
  "nbformat": 4,
  "nbformat_minor": 0,
  "metadata": {
    "colab": {
      "name": "Spark",
      "provenance": [],
      "authorship_tag": "ABX9TyPrxzwUSKy2fOpB9WTtdXq7",
      "include_colab_link": true
    },
    "kernelspec": {
      "name": "python3",
      "display_name": "Python 3"
    }
  },
  "cells": [
    {
      "cell_type": "markdown",
      "metadata": {
        "id": "view-in-github",
        "colab_type": "text"
      },
      "source": [
        "<a href=\"https://colab.research.google.com/github/ShambhaviCodes/Big-Data-using-PySpark/blob/main/Spark.ipynb\" target=\"_parent\"><img src=\"https://colab.research.google.com/assets/colab-badge.svg\" alt=\"Open In Colab\"/></a>"
      ]
    },
    {
      "cell_type": "code",
      "metadata": {
        "id": "IwX0-E5rpsCb"
      },
      "source": [
        "!apt-get install openjdk-8-jdk-headless -qq > /dev/null\n",
        "!wget -q https://downloads.apache.org/spark/spark-2.4.7/spark-2.4.7-bin-hadoop2.7.tgz\n",
        "!tar xf spark-2.4.7-bin-hadoop2.7.tgz\n",
        "!pip install -q findspark"
      ],
      "execution_count": 1,
      "outputs": []
    },
    {
      "cell_type": "code",
      "metadata": {
        "id": "Ae0Wz0U6pteu"
      },
      "source": [
        "import os\n",
        "os.environ[\"JAVA_HOME\"] = \"/usr/lib/jvm/java-8-openjdk-amd64\"\n",
        "os.environ[\"SPARK_HOME\"] = \"/content/spark-2.4.7-bin-hadoop2.7\"\n",
        "import findspark\n",
        "findspark.init()\n",
        "from google.colab import files\n",
        "from pyspark.sql import SparkSession, Window\n",
        "from pyspark.sql.functions import isnan, when, count, col, lit, trim, avg, ceil\n",
        "from pyspark.sql.types import StringType\n",
        "import matplotlib.pyplot as plt\n",
        "import pandas as pd\n",
        "import seaborn as sns"
      ],
      "execution_count": 2,
      "outputs": []
    },
    {
      "cell_type": "code",
      "metadata": {
        "id": "C_WIc1JMqvel",
        "outputId": "83d3433a-69f0-4b66-b670-14c322183d8d",
        "colab": {
          "base_uri": "https://localhost:8080/"
        }
      },
      "source": [
        "!wget https://s3.amazonaws.com/drivendata/data/7/public/4910797b-ee55-40a7-8668-10efd5c1b960.csv -O features.csv\n",
        "!wget https://s3.amazonaws.com/drivendata/data/7/public/0bf8bc6e-30d0-4c50-956a-603fc693d966.csv -O labels.csv"
      ],
      "execution_count": 3,
      "outputs": [
        {
          "output_type": "stream",
          "text": [
            "--2020-11-05 18:54:35--  https://s3.amazonaws.com/drivendata/data/7/public/4910797b-ee55-40a7-8668-10efd5c1b960.csv\n",
            "Resolving s3.amazonaws.com (s3.amazonaws.com)... 52.216.29.78\n",
            "Connecting to s3.amazonaws.com (s3.amazonaws.com)|52.216.29.78|:443... connected.\n",
            "HTTP request sent, awaiting response... 200 OK\n",
            "Length: 20069199 (19M) [text/csv]\n",
            "Saving to: ‘features.csv’\n",
            "\n",
            "features.csv        100%[===================>]  19.14M  41.3MB/s    in 0.5s    \n",
            "\n",
            "2020-11-05 18:54:36 (41.3 MB/s) - ‘features.csv’ saved [20069199/20069199]\n",
            "\n",
            "--2020-11-05 18:54:36--  https://s3.amazonaws.com/drivendata/data/7/public/0bf8bc6e-30d0-4c50-956a-603fc693d966.csv\n",
            "Resolving s3.amazonaws.com (s3.amazonaws.com)... 52.216.29.78\n",
            "Connecting to s3.amazonaws.com (s3.amazonaws.com)|52.216.29.78|:443... connected.\n",
            "HTTP request sent, awaiting response... 200 OK\n",
            "Length: 1148327 (1.1M) [text/csv]\n",
            "Saving to: ‘labels.csv’\n",
            "\n",
            "labels.csv          100%[===================>]   1.09M  6.75MB/s    in 0.2s    \n",
            "\n",
            "2020-11-05 18:54:36 (6.75 MB/s) - ‘labels.csv’ saved [1148327/1148327]\n",
            "\n"
          ],
          "name": "stdout"
        }
      ]
    },
    {
      "cell_type": "code",
      "metadata": {
        "id": "QYQByer-q2lq",
        "outputId": "622b9d09-6a0e-4817-b8d2-793ee5b0b76f",
        "colab": {
          "base_uri": "https://localhost:8080/"
        }
      },
      "source": [
        "!ls"
      ],
      "execution_count": 4,
      "outputs": [
        {
          "output_type": "stream",
          "text": [
            "features.csv  sample_data\t\t spark-2.4.7-bin-hadoop2.7.tgz\n",
            "labels.csv    spark-2.4.7-bin-hadoop2.7\n"
          ],
          "name": "stdout"
        }
      ]
    },
    {
      "cell_type": "code",
      "metadata": {
        "id": "MurjVY_RrC-b"
      },
      "source": [
        "sc = SparkSession.builder.master(\"local[*]\").getOrCreate()"
      ],
      "execution_count": 5,
      "outputs": []
    },
    {
      "cell_type": "code",
      "metadata": {
        "id": "1a6DU8X9rh4u"
      },
      "source": [
        "feature = sc.read.csv(\"features.csv\", inferSchema=True, header=True)\n",
        "label = sc.read.csv(\"labels.csv\", inferSchema=True, header=True)"
      ],
      "execution_count": 6,
      "outputs": []
    },
    {
      "cell_type": "code",
      "metadata": {
        "id": "OY-L_Z2UuFxA",
        "outputId": "f1927591-79d4-4ba8-9f01-663293fd95c9",
        "colab": {
          "base_uri": "https://localhost:8080/"
        }
      },
      "source": [
        "print(feature.count())\n",
        "print(feature.columns)\n",
        "print(label.count())\n",
        "print(label.columns)"
      ],
      "execution_count": 7,
      "outputs": [
        {
          "output_type": "stream",
          "text": [
            "59400\n",
            "['id', 'amount_tsh', 'date_recorded', 'funder', 'gps_height', 'installer', 'longitude', 'latitude', 'wpt_name', 'num_private', 'basin', 'subvillage', 'region', 'region_code', 'district_code', 'lga', 'ward', 'population', 'public_meeting', 'recorded_by', 'scheme_management', 'scheme_name', 'permit', 'construction_year', 'extraction_type', 'extraction_type_group', 'extraction_type_class', 'management', 'management_group', 'payment', 'payment_type', 'water_quality', 'quality_group', 'quantity', 'quantity_group', 'source', 'source_type', 'source_class', 'waterpoint_type', 'waterpoint_type_group']\n",
            "59400\n",
            "['id', 'status_group']\n"
          ],
          "name": "stdout"
        }
      ]
    },
    {
      "cell_type": "code",
      "metadata": {
        "id": "A370g5TIufZt"
      },
      "source": [
        "data = feature.join(label, on = 'id')"
      ],
      "execution_count": 8,
      "outputs": []
    },
    {
      "cell_type": "code",
      "metadata": {
        "id": "_bvTBathvYz5",
        "outputId": "63fd63d8-16e7-465f-ab35-9c5132c13eb8",
        "colab": {
          "base_uri": "https://localhost:8080/"
        }
      },
      "source": [
        "print(data.count())\n",
        "print(data.columns)"
      ],
      "execution_count": 9,
      "outputs": [
        {
          "output_type": "stream",
          "text": [
            "59400\n",
            "['id', 'amount_tsh', 'date_recorded', 'funder', 'gps_height', 'installer', 'longitude', 'latitude', 'wpt_name', 'num_private', 'basin', 'subvillage', 'region', 'region_code', 'district_code', 'lga', 'ward', 'population', 'public_meeting', 'recorded_by', 'scheme_management', 'scheme_name', 'permit', 'construction_year', 'extraction_type', 'extraction_type_group', 'extraction_type_class', 'management', 'management_group', 'payment', 'payment_type', 'water_quality', 'quality_group', 'quantity', 'quantity_group', 'source', 'source_type', 'source_class', 'waterpoint_type', 'waterpoint_type_group', 'status_group']\n"
          ],
          "name": "stdout"
        }
      ]
    },
    {
      "cell_type": "code",
      "metadata": {
        "id": "yF4f8QkqvjQF",
        "outputId": "7d07570b-16a5-44df-d4cd-ee3382ef0a8e",
        "colab": {
          "base_uri": "https://localhost:8080/"
        }
      },
      "source": [
        "print(data.printSchema)\n",
        "print(data.show(10))"
      ],
      "execution_count": 10,
      "outputs": [
        {
          "output_type": "stream",
          "text": [
            "<bound method DataFrame.printSchema of DataFrame[id: int, amount_tsh: double, date_recorded: timestamp, funder: string, gps_height: int, installer: string, longitude: double, latitude: double, wpt_name: string, num_private: int, basin: string, subvillage: string, region: string, region_code: int, district_code: int, lga: string, ward: string, population: int, public_meeting: boolean, recorded_by: string, scheme_management: string, scheme_name: string, permit: boolean, construction_year: int, extraction_type: string, extraction_type_group: string, extraction_type_class: string, management: string, management_group: string, payment: string, payment_type: string, water_quality: string, quality_group: string, quantity: string, quantity_group: string, source: string, source_type: string, source_class: string, waterpoint_type: string, waterpoint_type_group: string, status_group: string]>\n",
            "+-----+----------+-------------------+-------------------+----------+------------+-----------+------------+--------------------+-----------+--------------------+---------------+---------+-----------+-------------+---------------+----------+----------+--------------+--------------------+-----------------+--------------------+------+-----------------+---------------+---------------------+---------------------+----------+----------------+--------------+------------+-------------+-------------+------------+--------------+--------------------+--------------------+------------+--------------------+---------------------+--------------+\n",
            "|   id|amount_tsh|      date_recorded|             funder|gps_height|   installer|  longitude|    latitude|            wpt_name|num_private|               basin|     subvillage|   region|region_code|district_code|            lga|      ward|population|public_meeting|         recorded_by|scheme_management|         scheme_name|permit|construction_year|extraction_type|extraction_type_group|extraction_type_class|management|management_group|       payment|payment_type|water_quality|quality_group|    quantity|quantity_group|              source|         source_type|source_class|     waterpoint_type|waterpoint_type_group|  status_group|\n",
            "+-----+----------+-------------------+-------------------+----------+------------+-----------+------------+--------------------+-----------+--------------------+---------------+---------+-----------+-------------+---------------+----------+----------+--------------+--------------------+-----------------+--------------------+------+-----------------+---------------+---------------------+---------------------+----------+----------------+--------------+------------+-------------+-------------+------------+--------------+--------------------+--------------------+------------+--------------------+---------------------+--------------+\n",
            "|69572|    6000.0|2011-03-14 00:00:00|              Roman|      1390|       Roman|34.93809275| -9.85632177|                none|          0|          Lake Nyasa|       Mnyusi B|   Iringa|         11|            5|         Ludewa|  Mundindi|       109|          true|GeoData Consultan...|              VWC|               Roman| false|             1999|        gravity|              gravity|              gravity|       vwc|      user-group|  pay annually|    annually|         soft|         good|      enough|        enough|              spring|              spring| groundwater|  communal standpipe|   communal standpipe|    functional|\n",
            "| 8776|       0.0|2013-03-06 00:00:00|            Grumeti|      1399|     GRUMETI| 34.6987661| -2.14746569|            Zahanati|          0|       Lake Victoria|        Nyamara|     Mara|         20|            2|      Serengeti|     Natta|       280|          null|GeoData Consultan...|            Other|                null|  true|             2010|        gravity|              gravity|              gravity|       wug|      user-group|     never pay|   never pay|         soft|         good|insufficient|  insufficient|rainwater harvesting|rainwater harvesting|     surface|  communal standpipe|   communal standpipe|    functional|\n",
            "|34310|      25.0|2013-02-25 00:00:00|       Lottery Club|       686|World vision|37.46066446| -3.82132853|         Kwa Mahundi|          0|             Pangani|        Majengo|  Manyara|         21|            4|      Simanjiro|   Ngorika|       250|          true|GeoData Consultan...|              VWC|Nyumba ya mungu p...|  true|             2009|        gravity|              gravity|              gravity|       vwc|      user-group|pay per bucket|  per bucket|         soft|         good|      enough|        enough|                 dam|                 dam|     surface|communal standpip...|   communal standpipe|    functional|\n",
            "|67743|       0.0|2013-01-28 00:00:00|             Unicef|       263|      UNICEF|38.48616088|-11.15529772|Zahanati Ya Nanyumbu|          0|Ruvuma / Southern...|     Mahakamani|   Mtwara|         90|           63|       Nanyumbu|  Nanyumbu|        58|          true|GeoData Consultan...|              VWC|                null|  true|             1986|    submersible|          submersible|          submersible|       vwc|      user-group|     never pay|   never pay|         soft|         good|         dry|           dry|         machine dbh|            borehole| groundwater|communal standpip...|   communal standpipe|non functional|\n",
            "|19728|       0.0|2011-07-13 00:00:00|        Action In A|         0|     Artisan|31.13084671| -1.82535885|             Shuleni|          0|       Lake Victoria|     Kyanyamisa|   Kagera|         18|            1|        Karagwe|Nyakasimbi|         0|          true|GeoData Consultan...|             null|                null|  true|                0|        gravity|              gravity|              gravity|     other|           other|     never pay|   never pay|         soft|         good|    seasonal|      seasonal|rainwater harvesting|rainwater harvesting|     surface|  communal standpipe|   communal standpipe|    functional|\n",
            "| 9944|      20.0|2011-03-13 00:00:00|Mkinga Distric Coun|         0|         DWE| 39.1727956| -4.76558728|              Tajiri|          0|             Pangani|    Moa/Mwereme|    Tanga|          4|            8|         Mkinga|       Moa|         1|          true|GeoData Consultan...|              VWC|           Zingibali|  true|             2009|    submersible|          submersible|          submersible|       vwc|      user-group|pay per bucket|  per bucket|        salty|        salty|      enough|        enough|               other|               other|     unknown|communal standpip...|   communal standpipe|    functional|\n",
            "|19816|       0.0|2012-10-01 00:00:00|               Dwsp|         0|        DWSP|33.36240982| -3.76636472|          Kwa Ngomho|          0|            Internal|  Ishinabulandi|Shinyanga|         17|            3|Shinyanga Rural|    Samuye|         0|          true|GeoData Consultan...|              VWC|                null|  true|                0|         swn 80|               swn 80|             handpump|       vwc|      user-group|     never pay|   never pay|         soft|         good|      enough|        enough|         machine dbh|            borehole| groundwater|           hand pump|            hand pump|non functional|\n",
            "|54551|       0.0|2012-10-09 00:00:00|              Rwssp|         0|         DWE|32.62061707| -4.22619802|        Tushirikiane|          0|     Lake Tanganyika|Nyawishi Center|Shinyanga|         17|            3|         Kahama|    Chambo|         0|          true|GeoData Consultan...|             null|                null|  true|                0|    nira/tanira|          nira/tanira|             handpump|       wug|      user-group|       unknown|     unknown|        milky|        milky|      enough|        enough|        shallow well|        shallow well| groundwater|           hand pump|            hand pump|non functional|\n",
            "|53934|       0.0|2012-11-03 00:00:00|           Wateraid|         0|   Water Aid|32.71110001| -5.14671181|   Kwa Ramadhan Musa|          0|     Lake Tanganyika|     Imalauduki|   Tabora|         14|            6|   Tabora Urban|  Itetemia|         0|          true|GeoData Consultan...|              VWC|                null|  true|                0|  india mark ii|        india mark ii|             handpump|       vwc|      user-group|     never pay|   never pay|        salty|        salty|    seasonal|      seasonal|         machine dbh|            borehole| groundwater|           hand pump|            hand pump|non functional|\n",
            "|46144|       0.0|2011-08-03 00:00:00|        Isingiro Ho|         0|     Artisan|30.62699053| -1.25705061|             Kwapeto|          0|       Lake Victoria|       Mkonomre|   Kagera|         18|            1|        Karagwe|    Kaisho|         0|          true|GeoData Consultan...|             null|                null|  true|                0|    nira/tanira|          nira/tanira|             handpump|       vwc|      user-group|     never pay|   never pay|         soft|         good|      enough|        enough|        shallow well|        shallow well| groundwater|           hand pump|            hand pump|    functional|\n",
            "+-----+----------+-------------------+-------------------+----------+------------+-----------+------------+--------------------+-----------+--------------------+---------------+---------+-----------+-------------+---------------+----------+----------+--------------+--------------------+-----------------+--------------------+------+-----------------+---------------+---------------------+---------------------+----------+----------------+--------------+------------+-------------+-------------+------------+--------------+--------------------+--------------------+------------+--------------------+---------------------+--------------+\n",
            "only showing top 10 rows\n",
            "\n",
            "None\n"
          ],
          "name": "stdout"
        }
      ]
    },
    {
      "cell_type": "code",
      "metadata": {
        "id": "_NooYmBY3Zzm"
      },
      "source": [
        "data = data.withColumn('region_code', col('region_code').cast(StringType())).withColumn('district_code', col('district_code').cast(StringType()))"
      ],
      "execution_count": 11,
      "outputs": []
    },
    {
      "cell_type": "code",
      "metadata": {
        "id": "PK0-i1iJ_p_U",
        "outputId": "026bef8a-61a3-417a-f26a-da48918ce376",
        "colab": {
          "base_uri": "https://localhost:8080/"
        }
      },
      "source": [
        "data.printSchema()"
      ],
      "execution_count": 12,
      "outputs": [
        {
          "output_type": "stream",
          "text": [
            "root\n",
            " |-- id: integer (nullable = true)\n",
            " |-- amount_tsh: double (nullable = true)\n",
            " |-- date_recorded: timestamp (nullable = true)\n",
            " |-- funder: string (nullable = true)\n",
            " |-- gps_height: integer (nullable = true)\n",
            " |-- installer: string (nullable = true)\n",
            " |-- longitude: double (nullable = true)\n",
            " |-- latitude: double (nullable = true)\n",
            " |-- wpt_name: string (nullable = true)\n",
            " |-- num_private: integer (nullable = true)\n",
            " |-- basin: string (nullable = true)\n",
            " |-- subvillage: string (nullable = true)\n",
            " |-- region: string (nullable = true)\n",
            " |-- region_code: string (nullable = true)\n",
            " |-- district_code: string (nullable = true)\n",
            " |-- lga: string (nullable = true)\n",
            " |-- ward: string (nullable = true)\n",
            " |-- population: integer (nullable = true)\n",
            " |-- public_meeting: boolean (nullable = true)\n",
            " |-- recorded_by: string (nullable = true)\n",
            " |-- scheme_management: string (nullable = true)\n",
            " |-- scheme_name: string (nullable = true)\n",
            " |-- permit: boolean (nullable = true)\n",
            " |-- construction_year: integer (nullable = true)\n",
            " |-- extraction_type: string (nullable = true)\n",
            " |-- extraction_type_group: string (nullable = true)\n",
            " |-- extraction_type_class: string (nullable = true)\n",
            " |-- management: string (nullable = true)\n",
            " |-- management_group: string (nullable = true)\n",
            " |-- payment: string (nullable = true)\n",
            " |-- payment_type: string (nullable = true)\n",
            " |-- water_quality: string (nullable = true)\n",
            " |-- quality_group: string (nullable = true)\n",
            " |-- quantity: string (nullable = true)\n",
            " |-- quantity_group: string (nullable = true)\n",
            " |-- source: string (nullable = true)\n",
            " |-- source_type: string (nullable = true)\n",
            " |-- source_class: string (nullable = true)\n",
            " |-- waterpoint_type: string (nullable = true)\n",
            " |-- waterpoint_type_group: string (nullable = true)\n",
            " |-- status_group: string (nullable = true)\n",
            "\n"
          ],
          "name": "stdout"
        }
      ]
    },
    {
      "cell_type": "code",
      "metadata": {
        "id": "Z5yYu0h7BE7F"
      },
      "source": [
        "data = data.dropDuplicates(['id'])"
      ],
      "execution_count": 13,
      "outputs": []
    },
    {
      "cell_type": "code",
      "metadata": {
        "id": "ZVL8nWwzDYHM",
        "outputId": "29b43704-56ef-44ed-b80f-c28ad4d7e9f4",
        "colab": {
          "base_uri": "https://localhost:8080/"
        }
      },
      "source": [
        "print(data.count())"
      ],
      "execution_count": 14,
      "outputs": [
        {
          "output_type": "stream",
          "text": [
            "59400\n"
          ],
          "name": "stdout"
        }
      ]
    },
    {
      "cell_type": "code",
      "metadata": {
        "id": "rwUZgduUDeCK"
      },
      "source": [
        "str_cols = [item[0] for item in data.dtypes if item[1].startswith('string')]\n",
        "for cols in str_cols:\n",
        "  data = data.withColumn(cols, trim(data[cols]))"
      ],
      "execution_count": 15,
      "outputs": []
    },
    {
      "cell_type": "code",
      "metadata": {
        "id": "IPMA1sjydh8i"
      },
      "source": [
        "agg_row = data.select([count(when(isnan(c), c)).alias(c) for c in data.columns if c not in {'date_recorded', 'public_meeting', 'permit'}]).collect()"
      ],
      "execution_count": 16,
      "outputs": []
    },
    {
      "cell_type": "code",
      "metadata": {
        "id": "NYNLYC_wcFaJ"
      },
      "source": [
        "agg_dict_list = [row.asDict() for row in agg_row]\n",
        "agg_dict = agg_dict_list[0]"
      ],
      "execution_count": 17,
      "outputs": []
    },
    {
      "cell_type": "code",
      "metadata": {
        "id": "LXB_Y9ccfSMV",
        "outputId": "87e9b4ad-4402-44e5-95f0-92ffdd1a1e8b",
        "colab": {
          "base_uri": "https://localhost:8080/"
        }
      },
      "source": [
        "col_null = list({i for i in agg_dict if agg_dict[i] > 0.4})\n",
        "print(agg_dict)\n",
        "print(col_null)\n",
        "data = data.drop(*col_null)"
      ],
      "execution_count": 18,
      "outputs": [
        {
          "output_type": "stream",
          "text": [
            "{'id': 0, 'amount_tsh': 0, 'funder': 0, 'gps_height': 0, 'installer': 0, 'longitude': 0, 'latitude': 0, 'wpt_name': 0, 'num_private': 0, 'basin': 0, 'subvillage': 0, 'region': 0, 'region_code': 0, 'district_code': 0, 'lga': 0, 'ward': 0, 'population': 0, 'recorded_by': 0, 'scheme_management': 0, 'scheme_name': 0, 'construction_year': 0, 'extraction_type': 0, 'extraction_type_group': 0, 'extraction_type_class': 0, 'management': 0, 'management_group': 0, 'payment': 0, 'payment_type': 0, 'water_quality': 0, 'quality_group': 0, 'quantity': 0, 'quantity_group': 0, 'source': 0, 'source_type': 0, 'source_class': 0, 'waterpoint_type': 0, 'waterpoint_type_group': 0, 'status_group': 0}\n",
            "[]\n"
          ],
          "name": "stdout"
        }
      ]
    },
    {
      "cell_type": "code",
      "metadata": {
        "id": "tWLl1eg6gAD3",
        "outputId": "46413ea9-8815-45c7-e030-3998f08888ae",
        "colab": {
          "base_uri": "https://localhost:8080/"
        }
      },
      "source": [
        "data.groupBy('recorded_by').count().show()"
      ],
      "execution_count": 19,
      "outputs": [
        {
          "output_type": "stream",
          "text": [
            "+--------------------+-----+\n",
            "|         recorded_by|count|\n",
            "+--------------------+-----+\n",
            "|GeoData Consultan...|59400|\n",
            "+--------------------+-----+\n",
            "\n"
          ],
          "name": "stdout"
        }
      ]
    },
    {
      "cell_type": "code",
      "metadata": {
        "id": "RCkM14vklQQ_",
        "outputId": "3c6086fa-ae12-4c0d-d4e9-a4cf30002e94",
        "colab": {
          "base_uri": "https://localhost:8080/"
        }
      },
      "source": [
        "data.groupBy('water_quality').count().orderBy('count', ascending = False).show()"
      ],
      "execution_count": 20,
      "outputs": [
        {
          "output_type": "stream",
          "text": [
            "+------------------+-----+\n",
            "|     water_quality|count|\n",
            "+------------------+-----+\n",
            "|              soft|50818|\n",
            "|             salty| 4856|\n",
            "|           unknown| 1876|\n",
            "|             milky|  804|\n",
            "|          coloured|  490|\n",
            "|   salty abandoned|  339|\n",
            "|          fluoride|  200|\n",
            "|fluoride abandoned|   17|\n",
            "+------------------+-----+\n",
            "\n"
          ],
          "name": "stdout"
        }
      ]
    },
    {
      "cell_type": "code",
      "metadata": {
        "id": "gzkmJOk3mTkW"
      },
      "source": [
        "data = data.drop('recorded_by')"
      ],
      "execution_count": 21,
      "outputs": []
    },
    {
      "cell_type": "code",
      "metadata": {
        "id": "gSezDo7Lmm_L",
        "outputId": "f8eeaf6d-84a4-4f5b-f6f9-181444c2030f",
        "colab": {
          "base_uri": "https://localhost:8080/"
        }
      },
      "source": [
        "data.groupBy('status_group').pivot('region').sum('amount_tsh').show()"
      ],
      "execution_count": 22,
      "outputs": [
        {
          "output_type": "stream",
          "text": [
            "+--------------------+---------+-------------+------+---------+------+--------+------------------+-------+--------+--------+-----+--------+-------+-------+---------+--------+---------+---------+--------+------+--------+\n",
            "|        status_group|   Arusha|Dar es Salaam|Dodoma|   Iringa|Kagera|  Kigoma|       Kilimanjaro|  Lindi| Manyara|    Mara|Mbeya|Morogoro| Mtwara| Mwanza|    Pwani|   Rukwa|   Ruvuma|Shinyanga| Singida|Tabora|   Tanga|\n",
            "+--------------------+---------+-------------+------+---------+------+--------+------------------+-------+--------+--------+-----+--------+-------+-------+---------+--------+---------+---------+--------+------+--------+\n",
            "|functional needs ...|  10280.0|          0.0|   0.0| 118400.0|   0.0|270770.0|          129248.0| 3625.0| 71315.0|   900.0|  0.0| 70005.0|36240.0|10000.0|    520.0|292980.0| 125650.0|   2200.0|  6505.0|   0.0|  4310.0|\n",
            "|          functional|1125485.0|     181175.0|   0.0|5515710.0|   0.0|530725.0|         746942.25|24560.0|312745.0| 96786.0|  0.0|587642.0|52710.0|33550.0|1567765.0|776025.0|1827983.0|  53000.0|863415.0|   0.0|600931.0|\n",
            "|      non functional|  73330.0|       9374.0|   0.0| 752295.0|   0.0|177510.0|248454.40000000002|15730.0| 31420.0|116700.0|  0.0|184120.0|14096.0| 4500.0| 160560.0|416830.0| 414669.0|   1000.0| 74510.2|   0.0|123237.0|\n",
            "+--------------------+---------+-------------+------+---------+------+--------+------------------+-------+--------+--------+-----+--------+-------+-------+---------+--------+---------+---------+--------+------+--------+\n",
            "\n"
          ],
          "name": "stdout"
        }
      ]
    },
    {
      "cell_type": "code",
      "metadata": {
        "id": "dJcTZCm3nKJX",
        "outputId": "44a09fed-4f06-4e65-8e53-0881c308bfd2",
        "colab": {
          "base_uri": "https://localhost:8080/"
        }
      },
      "source": [
        "print(str_cols)"
      ],
      "execution_count": 23,
      "outputs": [
        {
          "output_type": "stream",
          "text": [
            "['funder', 'installer', 'wpt_name', 'basin', 'subvillage', 'region', 'region_code', 'district_code', 'lga', 'ward', 'recorded_by', 'scheme_management', 'scheme_name', 'extraction_type', 'extraction_type_group', 'extraction_type_class', 'management', 'management_group', 'payment', 'payment_type', 'water_quality', 'quality_group', 'quantity', 'quantity_group', 'source', 'source_type', 'source_class', 'waterpoint_type', 'waterpoint_type_group', 'status_group']\n"
          ],
          "name": "stdout"
        }
      ]
    },
    {
      "cell_type": "code",
      "metadata": {
        "id": "oXH1DNaK_9I6",
        "outputId": "3547e656-6ee8-4528-ba2b-ee10391a8f25",
        "colab": {
          "base_uri": "https://localhost:8080/"
        }
      },
      "source": [
        "for column in str_cols[:2]:\n",
        "  print(data.groupBy(column).count().orderBy('count', ascending=False).show())\n",
        "  values_cat = data.groupBy(column).count().collect()\n",
        "  lessthan = [x[0] for x in values_cat if x[1] < 1000]\n",
        "  data = data.withColumn(column, when(col(column).isin(lessthan), 'Others').otherwise(col(column)))\n",
        "  data.groupBy(column).count().orderBy('count', ascending=False).show()"
      ],
      "execution_count": 24,
      "outputs": [
        {
          "output_type": "stream",
          "text": [
            "+--------------------+-----+\n",
            "|              funder|count|\n",
            "+--------------------+-----+\n",
            "|Government Of Tan...| 9084|\n",
            "|                null| 3635|\n",
            "|              Danida| 3114|\n",
            "|              Hesawa| 2202|\n",
            "|               Rwssp| 1374|\n",
            "|          World Bank| 1349|\n",
            "|                Kkkt| 1287|\n",
            "|        World Vision| 1246|\n",
            "|              Unicef| 1057|\n",
            "|               Tasaf|  877|\n",
            "|    District Council|  843|\n",
            "|                 Dhv|  829|\n",
            "|  Private Individual|  826|\n",
            "|                Dwsp|  811|\n",
            "|                   0|  777|\n",
            "|               Norad|  765|\n",
            "|     Germany Republi|  610|\n",
            "|                Tcrs|  602|\n",
            "|   Ministry Of Water|  590|\n",
            "|               Water|  583|\n",
            "+--------------------+-----+\n",
            "only showing top 20 rows\n",
            "\n",
            "None\n",
            "+--------------------+-----+\n",
            "|              funder|count|\n",
            "+--------------------+-----+\n",
            "|              Others|35052|\n",
            "|Government Of Tan...| 9084|\n",
            "|                null| 3635|\n",
            "|              Danida| 3114|\n",
            "|              Hesawa| 2202|\n",
            "|               Rwssp| 1374|\n",
            "|          World Bank| 1349|\n",
            "|                Kkkt| 1287|\n",
            "|        World Vision| 1246|\n",
            "|              Unicef| 1057|\n",
            "+--------------------+-----+\n",
            "\n",
            "+------------------+-----+\n",
            "|         installer|count|\n",
            "+------------------+-----+\n",
            "|               DWE|17402|\n",
            "|              null| 3655|\n",
            "|        Government| 1825|\n",
            "|               RWE| 1206|\n",
            "|             Commu| 1060|\n",
            "|            DANIDA| 1050|\n",
            "|              KKKT|  898|\n",
            "|            Hesawa|  840|\n",
            "|                 0|  777|\n",
            "|              TCRS|  707|\n",
            "|Central government|  622|\n",
            "|               CES|  610|\n",
            "|         Community|  553|\n",
            "|             DANID|  552|\n",
            "|  District Council|  551|\n",
            "|            HESAWA|  539|\n",
            "|               LGA|  408|\n",
            "|      World vision|  408|\n",
            "|            WEDECO|  397|\n",
            "|             TASAF|  396|\n",
            "+------------------+-----+\n",
            "only showing top 20 rows\n",
            "\n",
            "None\n",
            "+----------+-----+\n",
            "| installer|count|\n",
            "+----------+-----+\n",
            "|    Others|33202|\n",
            "|       DWE|17402|\n",
            "|      null| 3655|\n",
            "|Government| 1825|\n",
            "|       RWE| 1206|\n",
            "|     Commu| 1060|\n",
            "|    DANIDA| 1050|\n",
            "+----------+-----+\n",
            "\n"
          ],
          "name": "stdout"
        }
      ]
    },
    {
      "cell_type": "code",
      "metadata": {
        "id": "MeTTOdb2BH2b",
        "outputId": "18ddf043-3afc-4c52-8b8b-1eaddf06fd2a",
        "colab": {
          "base_uri": "https://localhost:8080/"
        }
      },
      "source": [
        "data.groupBy('population').count().orderBy('population').show()"
      ],
      "execution_count": 25,
      "outputs": [
        {
          "output_type": "stream",
          "text": [
            "+----------+-----+\n",
            "|population|count|\n",
            "+----------+-----+\n",
            "|         0|21381|\n",
            "|         1| 7025|\n",
            "|         2|    4|\n",
            "|         3|    4|\n",
            "|         4|   13|\n",
            "|         5|   44|\n",
            "|         6|   19|\n",
            "|         7|    3|\n",
            "|         8|   23|\n",
            "|         9|   11|\n",
            "|        10|  163|\n",
            "|        11|    7|\n",
            "|        12|   43|\n",
            "|        13|   12|\n",
            "|        14|   18|\n",
            "|        15|  193|\n",
            "|        16|    8|\n",
            "|        17|    6|\n",
            "|        18|   18|\n",
            "|        19|    3|\n",
            "+----------+-----+\n",
            "only showing top 20 rows\n",
            "\n"
          ],
          "name": "stdout"
        }
      ]
    },
    {
      "cell_type": "code",
      "metadata": {
        "id": "iP93OtHPK6PD",
        "outputId": "d4473ae3-828a-43b2-add8-2b966dfc34d1",
        "colab": {
          "base_uri": "https://localhost:8080/"
        }
      },
      "source": [
        "data = data.withColumn('population', when(col('population') < 2, lit(None)).otherwise(col('population')))\n",
        "w = Window.partitionBy(data['district_code']) \n",
        "data = data.withColumn('population', when(col('population').isNull(), avg(data['population']).over(w)).otherwise(col('population')))\n",
        "data = data.withColumn('population', ceil(data['population']))\n",
        "data.groupBy('population').count().orderBy('population').show()"
      ],
      "execution_count": 26,
      "outputs": [
        {
          "output_type": "stream",
          "text": [
            "+----------+-----+\n",
            "|population|count|\n",
            "+----------+-----+\n",
            "|      null|   35|\n",
            "|         2|    4|\n",
            "|         3|    4|\n",
            "|         4|   13|\n",
            "|         5|   44|\n",
            "|         6|   19|\n",
            "|         7|    3|\n",
            "|         8|   23|\n",
            "|         9|   11|\n",
            "|        10|  163|\n",
            "|        11|    7|\n",
            "|        12|   43|\n",
            "|        13|   12|\n",
            "|        14|   18|\n",
            "|        15|  193|\n",
            "|        16|    8|\n",
            "|        17|    6|\n",
            "|        18|   18|\n",
            "|        19|    3|\n",
            "|        20|  462|\n",
            "+----------+-----+\n",
            "only showing top 20 rows\n",
            "\n"
          ],
          "name": "stdout"
        }
      ]
    },
    {
      "cell_type": "code",
      "metadata": {
        "id": "W4SslQFsOtTi"
      },
      "source": [
        "color_status = {'functional':'green', 'non functional': 'red', 'functional needs repair' :'blue'}"
      ],
      "execution_count": 27,
      "outputs": []
    },
    {
      "cell_type": "code",
      "metadata": {
        "id": "-TKcI53MxLrW"
      },
      "source": [
        "cols = ['status_group', 'payment_type', 'longitude', 'latitude', 'gps_height']"
      ],
      "execution_count": 28,
      "outputs": []
    },
    {
      "cell_type": "code",
      "metadata": {
        "id": "WhBlnDBSxWrp"
      },
      "source": [
        "df = data.select(cols).toPandas()"
      ],
      "execution_count": 30,
      "outputs": []
    },
    {
      "cell_type": "code",
      "metadata": {
        "id": "lmQdWp87xhhV",
        "outputId": "bee8dcd0-03b9-47e5-ee44-9284a2109b24",
        "colab": {
          "base_uri": "https://localhost:8080/",
          "height": 331
        }
      },
      "source": [
        "fig, ax = plt.subplots()\n",
        "sns.countplot(x='payment_type', hue = 'status_group', data=df, ax=ax, palette=color_status)\n",
        "plt.xticks(rotation=45)"
      ],
      "execution_count": 33,
      "outputs": [
        {
          "output_type": "execute_result",
          "data": {
            "text/plain": [
              "(array([0, 1, 2, 3, 4, 5, 6]), <a list of 7 Text major ticklabel objects>)"
            ]
          },
          "metadata": {
            "tags": []
          },
          "execution_count": 33
        },
        {
          "output_type": "display_data",
          "data": {
            "image/png": "[encoded data removed]",
            "text/plain": [
              "<Figure size 432x288 with 1 Axes>"
            ]
          },
          "metadata": {
            "tags": [],
            "needs_background": "light"
          }
        }
      ]
    },
    {
      "cell_type": "code",
      "metadata": {
        "id": "nVrlNknKx-2q",
        "outputId": "48621dcf-ab9f-4a9f-ab81-e3dfdbe557a9",
        "colab": {
          "base_uri": "https://localhost:8080/",
          "height": 504
        }
      },
      "source": [
        "fig.ax = plt.subplots(figsize=(12,8))\n",
        "sns.scatterplot(x='longitude', y='latitude', data=df, hue='status_group', ax=ax, palette=color_status)"
      ],
      "execution_count": 35,
      "outputs": [
        {
          "output_type": "execute_result",
          "data": {
            "text/plain": [
              "<matplotlib.axes._subplots.AxesSubplot at 0x7f24bd995d68>"
            ]
          },
          "metadata": {
            "tags": []
          },
          "execution_count": 35
        },
        {
          "output_type": "display_data",
          "data": {
            "image/png": "[encoded data removed]",
            "text/plain": [
              "<Figure size 864x576 with 1 Axes>"
            ]
          },
          "metadata": {
            "tags": [],
            "needs_background": "light"
          }
        }
      ]
    },
    {
      "cell_type": "code",
      "metadata": {
        "id": "1I6aRXOfzYwD",
        "outputId": "5842cab7-2b81-44b0-9255-653694d1fae2",
        "colab": {
          "base_uri": "https://localhost:8080/",
          "height": 642
        }
      },
      "source": [
        "row_functional = (df['status_group'] == 'functional')\n",
        "row_non_functional = (df['status_group'] == 'non functional')\n",
        "row_repair = (df['status_group'] == 'functional needs repair')\n",
        "col = 'gps_height'\n",
        "fig.ax = plt.subplots(figsize=(12,8))\n",
        "sns.distplot(df[col][row_functional], color = 'green', label='functional', ax=ax)\n",
        "sns.distplot(df[col][row_non_functional], color = 'red', label='non functional', ax=ax)\n",
        "sns.distplot(df[col][row_repair], color = 'blue', label='functional needs repair', ax=ax)\n",
        "plt.legend()"
      ],
      "execution_count": 36,
      "outputs": [
        {
          "output_type": "stream",
          "text": [
            "/usr/local/lib/python3.6/dist-packages/seaborn/distributions.py:2551: FutureWarning: `distplot` is a deprecated function and will be removed in a future version. Please adapt your code to use either `displot` (a figure-level function with similar flexibility) or `histplot` (an axes-level function for histograms).\n",
            "  warnings.warn(msg, FutureWarning)\n",
            "/usr/local/lib/python3.6/dist-packages/seaborn/distributions.py:2551: FutureWarning: `distplot` is a deprecated function and will be removed in a future version. Please adapt your code to use either `displot` (a figure-level function with similar flexibility) or `histplot` (an axes-level function for histograms).\n",
            "  warnings.warn(msg, FutureWarning)\n",
            "/usr/local/lib/python3.6/dist-packages/seaborn/distributions.py:2551: FutureWarning: `distplot` is a deprecated function and will be removed in a future version. Please adapt your code to use either `displot` (a figure-level function with similar flexibility) or `histplot` (an axes-level function for histograms).\n",
            "  warnings.warn(msg, FutureWarning)\n",
            "No handles with labels found to put in legend.\n"
          ],
          "name": "stderr"
        },
        {
          "output_type": "execute_result",
          "data": {
            "text/plain": [
              "<matplotlib.legend.Legend at 0x7f24bd390b00>"
            ]
          },
          "metadata": {
            "tags": []
          },
          "execution_count": 36
        },
        {
          "output_type": "display_data",
          "data": {
            "image/png": "[encoded data removed]",
            "text/plain": [
              "<Figure size 864x576 with 1 Axes>"
            ]
          },
          "metadata": {
            "tags": [],
            "needs_background": "light"
          }
        }
      ]
    },
    {
      "cell_type": "code",
      "metadata": {
        "id": "jbmvLV0g07Uw"
      },
      "source": [
        ""
      ],
      "execution_count": null,
      "outputs": []
    }
  ]
}